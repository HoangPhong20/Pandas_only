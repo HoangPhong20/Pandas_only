{
 "cells": [
  {
   "cell_type": "markdown",
   "id": "eb74bf66",
   "metadata": {},
   "source": [
    "# 1.Import module"
   ]
  },
  {
   "cell_type": "code",
   "execution_count": 188,
   "id": "be0dadfc",
   "metadata": {},
   "outputs": [],
   "source": [
    "import pandas as pd"
   ]
  },
  {
   "cell_type": "markdown",
   "id": "e9a0e86a",
   "metadata": {},
   "source": [
    "# 2.Loading data"
   ]
  },
  {
   "cell_type": "code",
   "execution_count": 189,
   "id": "b145b064",
   "metadata": {},
   "outputs": [
    {
     "name": "stdout",
     "output_type": "stream",
     "text": [
      "<class 'pandas.core.frame.DataFrame'>\n",
      "RangeIndex: 18494 entries, 0 to 18493\n",
      "Data columns (total 7 columns):\n",
      " #   Column              Non-Null Count  Dtype  \n",
      "---  ------              --------------  -----  \n",
      " 0   cst_id              18490 non-null  float64\n",
      " 1   cst_key             18494 non-null  object \n",
      " 2   cst_firstname       18486 non-null  object \n",
      " 3   cst_lastname        18487 non-null  object \n",
      " 4   cst_marital_status  18487 non-null  object \n",
      " 5   cst_gndr            13916 non-null  object \n",
      " 6   cst_create_date     18490 non-null  object \n",
      "dtypes: float64(1), object(6)\n",
      "memory usage: 1011.5+ KB\n",
      "18494\n"
     ]
    }
   ],
   "source": [
    "df = pd.read_csv('../datasets/cust_info.csv')\n",
    "df.head()\n",
    "df.info()\n",
    "print(len(df))"
   ]
  },
  {
   "cell_type": "markdown",
   "id": "a411454b",
   "metadata": {},
   "source": [
    "# Checking data"
   ]
  },
  {
   "cell_type": "code",
   "execution_count": 190,
   "id": "85b27ecb",
   "metadata": {},
   "outputs": [
    {
     "data": {
      "text/html": [
       "<div>\n",
       "<style scoped>\n",
       "    .dataframe tbody tr th:only-of-type {\n",
       "        vertical-align: middle;\n",
       "    }\n",
       "\n",
       "    .dataframe tbody tr th {\n",
       "        vertical-align: top;\n",
       "    }\n",
       "\n",
       "    .dataframe thead th {\n",
       "        text-align: right;\n",
       "    }\n",
       "</style>\n",
       "<table border=\"1\" class=\"dataframe\">\n",
       "  <thead>\n",
       "    <tr style=\"text-align: right;\">\n",
       "      <th></th>\n",
       "      <th>cst_id</th>\n",
       "      <th>cst_key</th>\n",
       "      <th>cst_firstname</th>\n",
       "      <th>cst_lastname</th>\n",
       "      <th>cst_marital_status</th>\n",
       "      <th>cst_gndr</th>\n",
       "      <th>cst_create_date</th>\n",
       "    </tr>\n",
       "  </thead>\n",
       "  <tbody>\n",
       "    <tr>\n",
       "      <th>18446</th>\n",
       "      <td>NaN</td>\n",
       "      <td>SF566</td>\n",
       "      <td>NaN</td>\n",
       "      <td>NaN</td>\n",
       "      <td>NaN</td>\n",
       "      <td>NaN</td>\n",
       "      <td>NaN</td>\n",
       "    </tr>\n",
       "    <tr>\n",
       "      <th>18482</th>\n",
       "      <td>NaN</td>\n",
       "      <td>PO25</td>\n",
       "      <td>NaN</td>\n",
       "      <td>NaN</td>\n",
       "      <td>NaN</td>\n",
       "      <td>NaN</td>\n",
       "      <td>NaN</td>\n",
       "    </tr>\n",
       "    <tr>\n",
       "      <th>18492</th>\n",
       "      <td>NaN</td>\n",
       "      <td>13451235</td>\n",
       "      <td>NaN</td>\n",
       "      <td>NaN</td>\n",
       "      <td>NaN</td>\n",
       "      <td>NaN</td>\n",
       "      <td>NaN</td>\n",
       "    </tr>\n",
       "    <tr>\n",
       "      <th>18493</th>\n",
       "      <td>NaN</td>\n",
       "      <td>A01Ass</td>\n",
       "      <td>NaN</td>\n",
       "      <td>NaN</td>\n",
       "      <td>NaN</td>\n",
       "      <td>NaN</td>\n",
       "      <td>NaN</td>\n",
       "    </tr>\n",
       "  </tbody>\n",
       "</table>\n",
       "</div>"
      ],
      "text/plain": [
       "       cst_id   cst_key cst_firstname cst_lastname cst_marital_status  \\\n",
       "18446     NaN     SF566           NaN          NaN                NaN   \n",
       "18482     NaN      PO25           NaN          NaN                NaN   \n",
       "18492     NaN  13451235           NaN          NaN                NaN   \n",
       "18493     NaN    A01Ass           NaN          NaN                NaN   \n",
       "\n",
       "      cst_gndr cst_create_date  \n",
       "18446      NaN             NaN  \n",
       "18482      NaN             NaN  \n",
       "18492      NaN             NaN  \n",
       "18493      NaN             NaN  "
      ]
     },
     "execution_count": 190,
     "metadata": {},
     "output_type": "execute_result"
    }
   ],
   "source": [
    "# Check for nulls\n",
    "df.isnull().sum()\n",
    "df[df['cst_id'].isnull()]"
   ]
  },
  {
   "cell_type": "code",
   "execution_count": 191,
   "id": "4bbd0376",
   "metadata": {},
   "outputs": [
    {
     "name": "stdout",
     "output_type": "stream",
     "text": [
      "        cst_id     cst_key cst_firstname cst_lastname cst_marital_status  \\\n",
      "18433  29433.0  AW00029433           NaN          NaN                  M   \n",
      "18434  29433.0  AW00029433        Thomas         King                  M   \n",
      "18446      NaN       SF566           NaN          NaN                NaN   \n",
      "18451  29449.0  AW00029449           NaN         Chen                  S   \n",
      "18452  29449.0  AW00029449         Laura         Chen                  S   \n",
      "18469  29466.0  AW00029466           NaN          NaN                NaN   \n",
      "18470  29466.0  AW00029466         Lance      Jimenez                  M   \n",
      "18471  29466.0  AW00029466         Lance      Jimenez                  M   \n",
      "18478  29473.0  AW00029473        Carmen          NaN                NaN   \n",
      "18479  29473.0  AW00029473        Carmen       Subram                  S   \n",
      "18482      NaN        PO25           NaN          NaN                NaN   \n",
      "18490  29483.0  AW00029483           NaN      Navarro                NaN   \n",
      "18491  29483.0  AW00029483          Marc      Navarro                  M   \n",
      "18492      NaN    13451235           NaN          NaN                NaN   \n",
      "18493      NaN      A01Ass           NaN          NaN                NaN   \n",
      "\n",
      "      cst_gndr cst_create_date  \n",
      "18433        M      2026-01-25  \n",
      "18434        M      2026-01-27  \n",
      "18446      NaN             NaN  \n",
      "18451      NaN      2026-01-25  \n",
      "18452        F      2026-01-26  \n",
      "18469      NaN      2026-01-25  \n",
      "18470      NaN      2026-01-26  \n",
      "18471        M      2026-01-27  \n",
      "18478      NaN      2026-01-25  \n",
      "18479      NaN      2026-01-26  \n",
      "18482      NaN             NaN  \n",
      "18490      NaN      2026-01-25  \n",
      "18491      NaN      2026-01-27  \n",
      "18492      NaN             NaN  \n",
      "18493      NaN             NaN  \n"
     ]
    }
   ],
   "source": [
    "# Check for duplicate cst_id values\n",
    "df_checkDuplicate = df[df['cst_id'].duplicated(keep=False)]\n",
    "print(df_checkDuplicate)"
   ]
  },
  {
   "cell_type": "markdown",
   "id": "eb5dc096",
   "metadata": {},
   "source": [
    "# Transforming data"
   ]
  },
  {
   "cell_type": "code",
   "execution_count": 192,
   "id": "1d5b9f14",
   "metadata": {},
   "outputs": [
    {
     "name": "stdout",
     "output_type": "stream",
     "text": [
      "<class 'pandas.core.frame.DataFrame'>\n",
      "RangeIndex: 18494 entries, 0 to 18493\n",
      "Data columns (total 7 columns):\n",
      " #   Column              Non-Null Count  Dtype         \n",
      "---  ------              --------------  -----         \n",
      " 0   cst_id              18490 non-null  Int64         \n",
      " 1   cst_key             18494 non-null  object        \n",
      " 2   cst_firstname       18486 non-null  object        \n",
      " 3   cst_lastname        18487 non-null  object        \n",
      " 4   cst_marital_status  18487 non-null  object        \n",
      " 5   cst_gndr            13916 non-null  object        \n",
      " 6   cst_create_date     18490 non-null  datetime64[ns]\n",
      "dtypes: Int64(1), datetime64[ns](1), object(5)\n",
      "memory usage: 1.0+ MB\n"
     ]
    }
   ],
   "source": [
    "# Format data types\n",
    "df['cst_id'] = df['cst_id'].astype('Int64')\n",
    "df['cst_create_date'] = pd.to_datetime(df['cst_create_date'], errors='coerce') # \n",
    "df.info()"
   ]
  },
  {
   "cell_type": "code",
   "execution_count": 193,
   "id": "86c715f9",
   "metadata": {},
   "outputs": [
    {
     "name": "stdout",
     "output_type": "stream",
     "text": [
      "       cst_id     cst_key cst_firstname cst_lastname cst_marital_status  \\\n",
      "0       11000  AW00011000           Jon        Yang                   M   \n",
      "1       11001  AW00011001        Eugene      Huang                    S   \n",
      "2       11002  AW00011002         Ruben       Torres                  M   \n",
      "3       11003  AW00011003       Christy          Zhu                  S   \n",
      "4       11004  AW00011004     Elizabeth      Johnson                  S   \n",
      "...       ...         ...           ...          ...                ...   \n",
      "18487   29480  AW00029480          Nina         Raji                  S   \n",
      "18488   29481  AW00029481          Ivan         Suri                  S   \n",
      "18489   29482  AW00029482       Clayton        Zhang                  M   \n",
      "18490   29483  AW00029483           NaN      Navarro                NaN   \n",
      "18491   29483  AW00029483          Marc      Navarro                  M   \n",
      "\n",
      "      cst_gndr cst_create_date  \n",
      "0            M      2025-10-06  \n",
      "1            M      2025-10-06  \n",
      "2            M      2025-10-06  \n",
      "3            F      2025-10-06  \n",
      "4            F      2025-10-06  \n",
      "...        ...             ...  \n",
      "18487      NaN      2026-01-25  \n",
      "18488      NaN      2026-01-25  \n",
      "18489      NaN      2026-01-25  \n",
      "18490      NaN      2026-01-25  \n",
      "18491      NaN      2026-01-27  \n",
      "\n",
      "[18490 rows x 7 columns]\n"
     ]
    }
   ],
   "source": [
    "# Drop nulls\n",
    "df = df.dropna(subset=['cst_id'])\n",
    "print(df)\n"
   ]
  },
  {
   "cell_type": "code",
   "execution_count": 194,
   "id": "7a7e250e",
   "metadata": {},
   "outputs": [
    {
     "name": "stdout",
     "output_type": "stream",
     "text": [
      "       cst_id     cst_key cst_firstname cst_lastname cst_marital_status  \\\n",
      "18480   29474  AW00029474         Jaime         Raje                  M   \n",
      "18481   29475  AW00029475         Jared         Ward                  S   \n",
      "18483   29476  AW00029476     Elizabeth      Bradley                  M   \n",
      "18484   29477  AW00029477          Neil         Ruiz                  M   \n",
      "18485   29478  AW00029478        Darren      Carlson                  S   \n",
      "18486   29479  AW00029479         Tommy         Tang                  M   \n",
      "18487   29480  AW00029480          Nina         Raji                  S   \n",
      "18488   29481  AW00029481          Ivan         Suri                  S   \n",
      "18489   29482  AW00029482       Clayton        Zhang                  M   \n",
      "18491   29483  AW00029483          Marc      Navarro                  M   \n",
      "\n",
      "      cst_gndr cst_create_date  \n",
      "18480      NaN      2026-01-25  \n",
      "18481      NaN      2026-01-25  \n",
      "18483      NaN      2026-01-25  \n",
      "18484      NaN      2026-01-25  \n",
      "18485      NaN      2026-01-25  \n",
      "18486      NaN      2026-01-25  \n",
      "18487      NaN      2026-01-25  \n",
      "18488      NaN      2026-01-25  \n",
      "18489      NaN      2026-01-25  \n",
      "18491      NaN      2026-01-27  \n"
     ]
    }
   ],
   "source": [
    "# Sort value followed by cst_id and cst_create_date, then drop duplicates and keep the last record\n",
    "df = (\n",
    "    df.sort_values(['cst_id', 'cst_create_date'])\n",
    "    .drop_duplicates(subset=['cst_id'], keep='last')\n",
    ")\n",
    "print(df.tail(10))"
   ]
  },
  {
   "cell_type": "code",
   "execution_count": 195,
   "id": "b99f9df8",
   "metadata": {},
   "outputs": [
    {
     "name": "stdout",
     "output_type": "stream",
     "text": [
      "       cst_id     cst_key cst_firstname cst_lastname cst_marital_status  \\\n",
      "18486   29479  AW00029479         Tommy         Tang            Married   \n",
      "18487   29480  AW00029480          Nina         Raji             Single   \n",
      "18488   29481  AW00029481          Ivan         Suri             Single   \n",
      "18489   29482  AW00029482       Clayton        Zhang            Married   \n",
      "18491   29483  AW00029483          Marc      Navarro            Married   \n",
      "\n",
      "      cst_gndr cst_create_date  \n",
      "18486     Male      2026-01-25  \n",
      "18487     Male      2026-01-25  \n",
      "18488     Male      2026-01-25  \n",
      "18489     Male      2026-01-25  \n",
      "18491     Male      2026-01-27  \n",
      "<class 'pandas.core.frame.DataFrame'>\n",
      "Index: 18484 entries, 0 to 18491\n",
      "Data columns (total 7 columns):\n",
      " #   Column              Non-Null Count  Dtype         \n",
      "---  ------              --------------  -----         \n",
      " 0   cst_id              18484 non-null  Int64         \n",
      " 1   cst_key             18484 non-null  object        \n",
      " 2   cst_firstname       18484 non-null  object        \n",
      " 3   cst_lastname        18484 non-null  object        \n",
      " 4   cst_marital_status  18484 non-null  object        \n",
      " 5   cst_gndr            18484 non-null  object        \n",
      " 6   cst_create_date     18484 non-null  datetime64[ns]\n",
      "dtypes: Int64(1), datetime64[ns](1), object(5)\n",
      "memory usage: 1.1+ MB\n"
     ]
    }
   ],
   "source": [
    "# fill nulls and formatting data\n",
    "df['cst_gndr'] = df['cst_gndr'].apply(lambda x: 'Female' if x == 'F' else 'Male')\n",
    "df['cst_marital_status'] = df['cst_marital_status'].apply(lambda x: 'Married' if x == 'M' else 'Single')\n",
    "print(df.tail(5))\n",
    "df.info()"
   ]
  },
  {
   "cell_type": "code",
   "execution_count": null,
   "id": "a16df9f1",
   "metadata": {},
   "outputs": [],
   "source": []
  }
 ],
 "metadata": {
  "kernelspec": {
   "display_name": "venv",
   "language": "python",
   "name": "python3"
  },
  "language_info": {
   "codemirror_mode": {
    "name": "ipython",
    "version": 3
   },
   "file_extension": ".py",
   "mimetype": "text/x-python",
   "name": "python",
   "nbconvert_exporter": "python",
   "pygments_lexer": "ipython3",
   "version": "3.9.7"
  }
 },
 "nbformat": 4,
 "nbformat_minor": 5
}
